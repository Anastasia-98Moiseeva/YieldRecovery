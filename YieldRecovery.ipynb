{
  "nbformat": 4,
  "nbformat_minor": 0,
  "metadata": {
    "colab": {
      "name": "YieldRecovery.ipynb",
      "provenance": [],
      "collapsed_sections": []
    },
    "kernelspec": {
      "name": "python3",
      "display_name": "Python 3"
    }
  },
  "cells": [
    {
      "cell_type": "markdown",
      "metadata": {
        "id": "bfre4BrDdi7u"
      },
      "source": [
        "# <b><center>Восстановление кривой процентных ставок из купонных и бескупонных облигаций, нахождение арбитражных возможностей.</center></b>\n",
        "\n",
        "\n"
      ]
    },
    {
      "cell_type": "markdown",
      "metadata": {
        "id": "ZtXC916LBDR5"
      },
      "source": [
        "#1 Введение\n",
        "Рынок ценных бумаг является неотъемлемой частью экономики. Таким образом, предприятиям предоставляется возможность аккумулировать свободные денежные средства для расширения производства. Значительное место среди ценных бумаг занимают облигаци, которые составляют окало 5% рынка ценных бумаг. Облигации - это наиболее конкурентоспособный инвестиционный инструмент на сегодняшний день. "
      ]
    },
    {
      "cell_type": "markdown",
      "metadata": {
        "id": "hnuHoCWiqxVo"
      },
      "source": [
        "#2 Основные понятия\n",
        "\n",
        "**Облигация** – это долговое обязательство, в соответствии с которым эмитент гарантирует выплату номинальной стоимости по истечении определенного срока и выплату дохода в виде фиксированного или плавающего процента. Облигации приносят их владельцам доход в виде фиксированного дохода от своей номинальной стоимости. [[1]](#1)\n",
        "\n",
        "**Эмитент** - организация, выпускающая ценные бумаги для развития и финансирования своей деятельности. [[2]](#2)\n",
        "\n",
        "**Номинальная стоимость** облигации - стоимость облигации, установленная эмитентом. [[3]](#3)\n",
        "\n",
        "**Рыночная стоимость** облигации - текущая стоимость облигации на рынке, определяется спросом и предложением. [[3]](#3)\n",
        "\n",
        "**Купонные выплаты** - платежи, выплачиваемые эмитентом владельцу облигации с определенной периодичностью на протяжении обращения облигации. [[4]](#4)\n",
        "\n",
        "**Купонная ставка** облигации - это годовая процентная ставка от номинала используемая для расчета купонных выплат. [[4]](#4)\n",
        "\n",
        "**Доходностью** облигации называется годовая ставка доходности, получаемая инвестором, купившим и владеющим данной облигацией до момента ее погашения. [[4]](#4)\n",
        "\n",
        "**Кривая доходности** — кривая, отображающая связь между доходностью ценных бумаг с\n",
        "фиксированным процентом и сроком их погашения. [[4]](#4)"
      ]
    },
    {
      "cell_type": "markdown",
      "metadata": {
        "id": "umLhcGR1wOtl"
      },
      "source": [
        "# 3 Виды облигаций\n",
        "\n",
        "Облигации делятся на виды по различным характеристикам:\n",
        "\n",
        "1. валюта\n",
        "2. эмитент\n",
        "3. купонная ставка\n",
        "4. погашение номинала"
      ]
    },
    {
      "cell_type": "markdown",
      "metadata": {
        "id": "_FwoLMxFwOyg"
      },
      "source": [
        "### 3.1 Классификация облигаций по валюте представления:\n",
        "\n",
        "Подавляющее большинство облигаций, обращающихся на внутреннем рынке и доступных для частного инвестора номинируются в национальной валюте. Номинал облигаций чаще всего равен 1000 руб. [[5]](#5)\n"
      ]
    },
    {
      "cell_type": "markdown",
      "metadata": {
        "id": "Um8AStZHwO4x"
      },
      "source": [
        "###3.2 Классификация облигаций по типу эмитента:\n",
        "\n",
        "1. **Государственные облигации** - облигации, выпущенные государством.\n",
        "Самые распространенные бумаги этой категории, это облигации федерального займа (ОФЗ). Облигации, выпущенные государственными структурами считаются безрисковыми (полагаем что государство платежеспособно, то есть дефолт невозможен). К недостаткам таких облигаций можно отнести невысокую доходность, которая является компенсацией за низкий кредитный риск. [[5]](#5)\n",
        "\n",
        "2. **Субфедеральные и муниципальные облигации** - долговые бумаги, выпускаемые субъектами РФ и муниципальными образованиями. Рынок этих облигаций относительно других типов бумаг небольшой. При этом доходность у таких бумаг немного выше за счет более низкой надежности. Государственные и муниципальные облигации не идентичны по уровню кредитного риска (то есть дефолт эмитента возможен, в том числе при платежеспособности государства). [[5]](#5)\n",
        "\n",
        "3. **Корпоративные облигации** - долговые обязательства отдельных компаний. Доходность таких облигаций выше, чем доходность безрисковых облигаций. [[5]](#5)"
      ]
    },
    {
      "cell_type": "markdown",
      "metadata": {
        "id": "OdhBH2ySwPBA"
      },
      "source": [
        "###3.3 Классификация облигаций по типу купонной ставки\n",
        "\n",
        "1. **Облигации с нулевой купонной ставкой**. Купонные выплаты по таким облигациям отсутствуют. Кроме того, облигации изначально размещаются ниже номинальной стоимости, и доход инвестора составляет только разница между ценой покупки бумаги и ценой погашения/продажи. Облигации с нулевой ставкой называются **бескупонными** [[5]](#5)\n",
        "\n",
        "2. **Облигации с фиксированной купонной ставкой** подразумевают выплату четко-обозначенного процента по окончании размещения облигации. [[5]](#5)\n",
        "\n",
        "3. **Облигации с переменным купоном**. Купон такой облигации фиксируется до даты оферты, после которой процентная ставка меняется в зависимости от конъюнктуры рынка. При этом до оферты новая процентная ставка неизвестна. [[5]](#5)\n",
        "\n",
        "4. **Облигации с плавающей ставкой**. Процентная ставка таких облигаций привязана к изменению какого-либо другого индикативного финансового инструмента. Этим инструментом может быть ключевая ставка Банка России, индекс потребительских цен, ставка RUONIA, курс доллара, ставка LIBOR (для еврооблигаций) и другие. [[5]](#5)\n"
      ]
    },
    {
      "cell_type": "markdown",
      "metadata": {
        "id": "oCvuRhSiwwUK"
      },
      "source": [
        "\n",
        "###3.4 Классификация облигаций по типу погашения номинала:\n",
        "\n",
        "1. **Погашение номинала полностью в конце срока**. По умолчанию сумма номинала выплачивается инвестору в полном размере в дату погашения облигации. [[5]](#5)\n",
        "\n",
        "2. **Облигации с индексируемым номиналом**. Для облигаций такого типа плавающим является не купон, а номинальная стоимость бумаги. [[5]](#5)\n",
        "\n",
        "3. **Облигации с амортизируемым долгом**. Номинал такой облигации погашается частями параллельно с купонными выплатами. Бумаги такого типа используются в случае, когда эмитенту не удобна форма заимствований, при которой к дате погашения придется аккумулировать крупную сумму денег. [[5]](#5)"
      ]
    },
    {
      "cell_type": "markdown",
      "metadata": {
        "id": "gHC2t2Ov8-G7"
      },
      "source": [
        "_В рамках данного проекта мы будем рассматривать облигации с нулевой купонной ставкой и облигации с фиксированной купонной ставкой. (То есть далее под купонной облигацией будем понимать облигацию с фиксированным купоном). Погашение номинала происходит один раз в конце срока._\n"
      ]
    },
    {
      "cell_type": "markdown",
      "metadata": {
        "id": "wV7Ykwh_1iBa"
      },
      "source": [
        " # 4 Бескупонные облигации\n",
        "\n",
        "Для подсчета покупной цены бескупонных облигаций используется формула:\n",
        "\n",
        "$\\mathbf{PV = \\frac{FV}{(1 + r_n)^n}}$\n",
        "\n",
        "где PV - покупная цена\n",
        "\n",
        "FV - номинальная стоимость\n",
        "\n",
        "$r_n$ - доходность\n",
        "\n",
        "$n$ - год погащения бескупонной облигации\n",
        "\n",
        "Из этой формулы получается выражение для расчета доходности бескупонной облигации со сроком погашения $n$:\n",
        "\n",
        "$\\mathbf{r_n = \\sqrt[n]{\\frac{FV}{PV}} - 1}$ [[4]](#4)\n"
      ]
    },
    {
      "cell_type": "code",
      "metadata": {
        "id": "O3ANFAFzxzYu"
      },
      "source": [
        "import math\n",
        "\n",
        "def count_yield(n, c):\n",
        "  return pow(1/c, 1/n) - 1\n",
        "\n",
        "def price_of_zero_coupon_bond(c, FV):\n",
        "  return FV * c"
      ],
      "execution_count": null,
      "outputs": []
    },
    {
      "cell_type": "markdown",
      "metadata": {
        "id": "FmTPE_WVxxTa"
      },
      "source": [
        "----------------------------------------------------------------------\n",
        "**_Пример 1:_**\n",
        "\n",
        "Рассмотрим бескупонные облигации:\n",
        "\n",
        "$FV = 1000$ руб\n",
        "\n",
        ">```\n",
        "Срок погашения | Цена (за 1 руб от номинала) | Доходность\n",
        "-------------- | -------------------------------|-----------\n",
        "     1 год     |              0.95              |     ?\n",
        "-------------- | -------------------------------|-----------\n",
        "     2 год     |              0.88              |     ?\n",
        "-------------- | -------------------------------|-----------\n",
        "     3 год     |              0.80              |     ?\n",
        ">```\n",
        "\n",
        "Найдем доходность для каждой облигации с годами погашения 1, 2 и 3 года:\n"
      ]
    },
    {
      "cell_type": "code",
      "metadata": {
        "id": "oc6IOwHxlSQf",
        "colab": {
          "base_uri": "https://localhost:8080/",
          "height": 69
        },
        "outputId": "02095127-0496-43dd-e154-16dfff3ddd67"
      },
      "source": [
        "print(\"Доходность в 1-ый год: \", count_yield(1, 0.95))\n",
        "print(\"Доходность во 2-ой год: \", count_yield(2, 0.88))\n",
        "print(\"Доходность в 3-ий год: \", count_yield(3, 0.80))"
      ],
      "execution_count": null,
      "outputs": [
        {
          "output_type": "stream",
          "text": [
            "Доходность в 1-ый год:  0.05263157894736836\n",
            "Доходность во 2-ой год:  0.06600358177805221\n",
            "Доходность в 3-ий год:  0.07721734501594191\n"
          ],
          "name": "stdout"
        }
      ]
    },
    {
      "cell_type": "markdown",
      "metadata": {
        "id": "0OB6SKny0YtG"
      },
      "source": [
        "Таким образом, мы получаем следующие значения:\n",
        "\n",
        ">```\n",
        "Срок погашения | Цена (за 1 руб от номинала)    | Доходность\n",
        "-------------- | -------------------------------|-----------\n",
        "     1 год     |              0.95              |    5.26%\n",
        "-------------- | -------------------------------|-----------\n",
        "     2 год     |              0.88              |    6.60%\n",
        "-------------- | -------------------------------|-----------\n",
        "     3 год     |              0.80              |    7.72%\n",
        ">```"
      ]
    },
    {
      "cell_type": "code",
      "metadata": {
        "id": "DUk6mlFXlt-H",
        "colab": {
          "base_uri": "https://localhost:8080/",
          "height": 69
        },
        "outputId": "9bedb5d4-67ce-4df5-bee6-1b224e3dd956"
      },
      "source": [
        "print(\"Покупная цена в 1-ый год: \", price_of_zero_coupon_bond(0.95, 1000))\n",
        "print(\"Покупная цена во 2-ой год: \", price_of_zero_coupon_bond(0.88, 1000))\n",
        "print(\"Покупная цена в 3-ий год: \", price_of_zero_coupon_bond(0.80, 1000))"
      ],
      "execution_count": null,
      "outputs": [
        {
          "output_type": "stream",
          "text": [
            "Покупная цена в 1-ый год:  950.0\n",
            "Покупная цена во 2-ой год:  880.0\n",
            "Покупная цена в 3-ий год:  800.0\n"
          ],
          "name": "stdout"
        }
      ]
    },
    {
      "cell_type": "markdown",
      "metadata": {
        "id": "63AdwWmzIeRQ"
      },
      "source": [
        "# 5 Купонные облигации\n",
        "\n",
        "Доходность при погашении купонной облигации рассчитывается из формулы:\n",
        "\n",
        "$\\mathbf{PV = \\sum_{t=1}^n \\frac{PMT}{(1+r_t)^t} + \\frac{FV}{(1+r_n)^n}}$\n",
        "\n",
        "где PV - текущая стоимость\n",
        "\n",
        "FV - номинальная стоимость\n",
        "\n",
        "PMT - купонная выплата\n",
        "\n",
        "$r_i$ - процентная ставка доходности для облигации с $i$ платежами до даты погашения\n",
        "\n",
        "$n$ - кол-во платежей до даты погашения  \n",
        "\n",
        "[[4]](#4)"
      ]
    },
    {
      "cell_type": "code",
      "metadata": {
        "id": "Qjn5Z3v03WRA"
      },
      "source": [
        "def price_of_coupon_bond(n, c_arr, FV, PMT):\n",
        "  PV = FV * c_arr[n-1]\n",
        "  for c in c_arr:\n",
        "    PV += PMT * c\n",
        "  return PV\n"
      ],
      "execution_count": null,
      "outputs": []
    },
    {
      "cell_type": "markdown",
      "metadata": {
        "id": "VoF3oPySzGoO"
      },
      "source": [
        "# 6 Закон единой цены \n",
        "\n",
        "**Закон единой цены** гласит, что если на конкурентном рынке проводятся операции с равноценными активами, то их рыночные цены будут стремиться к сближению. \n",
        "\n",
        "В основе действия закона единой цены лежит процесс, называемый **арбитражем** — покупка и немедленная продажа эквивалентных активов с целью получения гарантированной прибыли на основе разницы в их ценах. Прибыль рассчитывается с учетом **операционных издержек** - затрат на выполнение финансовых операций.\n",
        "\n",
        "Закон единой цены является наиболее фундаментальным принципом оценки стоимости активов, используемый в финансовой сфере.  [[4]](#4)"
      ]
    },
    {
      "cell_type": "markdown",
      "metadata": {
        "id": "Ai3F_Evt36YG"
      },
      "source": [
        "----------------------------------------------------------------------\n",
        "**_Пример 2:_**\n",
        "\n",
        "Положим, есть бескупонные облигации из примера 1, кроме того есть купонные облигации:\n",
        "\n",
        "$FV = 1000$ руб\n",
        "\n",
        "$PMT = 50$ руб (купонная доходность 5%)\n",
        "\n",
        "В соответствии с законом единой цены, цены на денежные платежи по купонной облигации составляют:\n",
        "\n",
        ">```\n",
        "      Год      | Цена (за 1 руб от номинала) \n",
        "-------------- | -------------------------------\n",
        "     1 год     |              0.95              \n",
        "-------------- | -------------------------------\n",
        "     2 год     |              0.88              \n",
        "-------------- | -------------------------------\n",
        "     3 год     |              0.80              \n",
        ">```\n",
        "\n",
        "Найдем текущую цену для каждой облигации с годами погашения 1, 2 и 3 года:"
      ]
    },
    {
      "cell_type": "code",
      "metadata": {
        "id": "2yaydZ4N-dSx",
        "colab": {
          "base_uri": "https://localhost:8080/",
          "height": 69
        },
        "outputId": "f3a8f3d7-7de4-4fa0-a751-d331a85712da"
      },
      "source": [
        "print(\"Покупная цена в 1-ый год: \", price_of_coupon_bond(1, [0.95], 1000, 50))\n",
        "print(\"Покупная цена во 2-ой год: \", price_of_coupon_bond(2, [0.95, 0.88], 1000, 50))\n",
        "print(\"Покупная цена в 3-ий год: \", price_of_coupon_bond(3, [0.95, 0.88, 0.80], 1000, 50))"
      ],
      "execution_count": null,
      "outputs": [
        {
          "output_type": "stream",
          "text": [
            "Покупная цена в 1-ый год:  997.5\n",
            "Покупная цена во 2-ой год:  971.5\n",
            "Покупная цена в 3-ий год:  931.5\n"
          ],
          "name": "stdout"
        }
      ]
    },
    {
      "cell_type": "markdown",
      "metadata": {
        "id": "nVmt4qH4p_3K"
      },
      "source": [
        "# 7 Восстановление кривой доходности\n",
        "\n",
        "Размер процентной ставки доходности зависит от целого ряда факторов, одним из наиболее важных факторов является срок погашения облигации.\n",
        "\n",
        "Восстановим кривую доходности на разные горизонты:"
      ]
    },
    {
      "cell_type": "markdown",
      "metadata": {
        "id": "nxH1MeQwk0N3"
      },
      "source": [
        "\n",
        "1. Пусть $c_n = c(n)$ - цена одного рубля в момент $n$.\n",
        "\n",
        "$c_n = \\frac{PV}{FV} = \\frac{1}{(1+r)^n}$\n",
        "\n",
        "2. Положим, $y$ - кол-во бескупонных облигаций некоторой компании.\n",
        "\n",
        "$PV_1$, ... , $PV_y$ - покупные цены соответствующих бескупонных облигаций.\n",
        "\n",
        "$FV_1$, ... , $FV_y$ - номинальные стоимости соответствующих бескупонных облигаций.\n",
        "\n",
        "Положим $m_1$, ... , $m_y$ - года погашения соответствующих бескупонных облигаций.\n",
        "\n",
        "Тогда получим уравнения: \n",
        "\n",
        "\\begin{equation*}\n",
        " \\begin{cases}\n",
        "   c_{m_1} = \\frac{PV_1}{FV_1}, \n",
        "   \\\\\n",
        "   ...,\n",
        "   \\\\\n",
        "   c_{m_y} = \\frac{PV_y}{FV_y},\n",
        " \\end{cases}\n",
        "\\end{equation*}\n",
        "\n",
        "3. Теперь положим $x$ - кол-во купонных облигаций некоторой компании.\n",
        "\n",
        "$\\overline{PV_1}$, ... , $\\overline{PV_y}$ - покупные цены соответствующих купонных облигаций.\n",
        "\n",
        "$\\overline{FV_1}$, ... , $\\overline{FV_y}$ - номинальные стоимости соответствующих купонных облигаций.\n",
        "\n",
        "${PMT_1}$, ... , ${PMT_y}$ - номинальные стоимости соответствующих купонных облигаций.\n",
        "\n",
        "Положим $n_1$, ... , $n_x$ - года погашения соответствующих купонных облигаций.\n",
        "\n",
        "Тогда получим уравнения: \n",
        "\n",
        "\\begin{equation*}\n",
        " \\begin{cases}\n",
        "   \\overline{PV_1} = \\sum_{t_1=1}^{n_1} PMT_1*c_{t_1} + \\overline{FV_1}*c_{n_1},\n",
        "   \\\\\n",
        "   ...,\n",
        "   \\\\\n",
        "   \\overline{PV_x} = \\sum_{t_x=1}^{n_x} PMT_x*c_{t_x} + \\overline{FV_x}*c_{n_x}.\n",
        " \\end{cases}\n",
        "\\end{equation*}\n",
        "\n",
        "4. Получаем итоговую систему:\n",
        "\n",
        "\\begin{equation*}\n",
        " \\begin{cases}\n",
        "   c_{m_1} = \\frac{PV_1}{FV_1}, \n",
        "   \\\\\n",
        "   ...,\n",
        "   \\\\\n",
        "   c_{m_y} = \\frac{PV_y}{FV_y},\n",
        "   \\\\\n",
        "   \\overline{PV_1} = \\sum_{t_1=1}^{n_1} PMT_1*c_{t_1} + \\overline{FV_1}*c_{n_1},\n",
        "   \\\\\n",
        "   ...,\n",
        "   \\\\\n",
        "    \\overline{PV_x} = \\sum_{t_x=1}^{n_x} PMT_x*c_{t_x} + \\overline{FV_x}*c_{n_x}.\n",
        " \\end{cases}\n",
        "\\end{equation*}\n",
        "\n",
        "В случае, когда система имеет единственное решение, можно восстановить процентные ставки из уравнения $c_n = \\frac{1}{(1+r)^n}$, используя соответствующие значения $c_n$.\n",
        "\n",
        "Если решений несколько, то восстановить процентные ставки не удастся.\n",
        "\n",
        "Если система не будет иметь решений, то это будет означать нарушение закона единой цены."
      ]
    },
    {
      "cell_type": "code",
      "metadata": {
        "id": "l5lRdHUBN9Gv"
      },
      "source": [
        "import numpy as np\n",
        "\n",
        "def one_dollar_price(PV, FV):\n",
        "  return PV/FV"
      ],
      "execution_count": null,
      "outputs": []
    },
    {
      "cell_type": "code",
      "metadata": {
        "id": "ydqy7OtgODx-"
      },
      "source": [
        "def count_variables_and_years(m_arr, n_arr):\n",
        "  years = []\n",
        "  cnt = 0\n",
        "  for i in m_arr:\n",
        "    if i not in years:\n",
        "      cnt += 1\n",
        "      years.append(i)\n",
        "  for i in n_arr:\n",
        "    for j in range(1, i + 1):\n",
        "      if j not in years:\n",
        "        cnt += 1\n",
        "        years.append(j)\n",
        "  return cnt, years"
      ],
      "execution_count": null,
      "outputs": []
    },
    {
      "cell_type": "code",
      "metadata": {
        "id": "c4qF9ARCOD2V"
      },
      "source": [
        "def create_matrix(x, y, variables_cnt, m_arr, n_arr, PMT_arr, FV_arr1):\n",
        "  A = np.zeros(shape=(x + y, variables_cnt))\n",
        "\n",
        "  # Заполняются первые y строчек матрицы\n",
        "  years = []\n",
        "  for i in range(y):\n",
        "    if m_arr[i] in years:\n",
        "      A[i][years.index(m_arr[i])] = 1\n",
        "    else:\n",
        "      A[i][len(years)] = 1\n",
        "      years.append(m_arr[i])\n",
        "\n",
        "  # Заполняются последние x строчек матрицы\n",
        "  for i in range(x):\n",
        "    for j in range (1, n_arr[i] + 1):\n",
        "      if j in years:\n",
        "        k = years.index(j)\n",
        "        A[i + y][k] = PMT_arr[i]\n",
        "        if j == n_arr[i]:\n",
        "          A[i + y][k] += FV_arr1[i]\n",
        "      else:\n",
        "        k = len(years)\n",
        "        A[i + y][k] = PMT_arr[i]\n",
        "        if j == n_arr[i]:\n",
        "          A[i + y][k] += FV_arr1[i]\n",
        "        years.append(j)\n",
        "  return A "
      ],
      "execution_count": null,
      "outputs": []
    },
    {
      "cell_type": "code",
      "metadata": {
        "id": "CCEQ5EgiPN50"
      },
      "source": [
        "def create_vector(x, y, PV_arr, FV_arr, PV_arr1):\n",
        "  b = np.zeros(shape=(x + y))\n",
        "\n",
        "  # Заполнение первых y элементов вектора\n",
        "  for i in range(y):\n",
        "    b[i] = one_dollar_price(PV_arr[i], FV_arr[i])\n",
        "\n",
        "  # Заполнение последних x элементов вектора\n",
        "  for i in range(y, y + x):\n",
        "    b[i] = PV_arr1[i - y]\n",
        "  return b"
      ],
      "execution_count": null,
      "outputs": []
    },
    {
      "cell_type": "code",
      "metadata": {
        "id": "g_yxNli4M13j"
      },
      "source": [
        "import matplotlib.pyplot as plt\n",
        "\n",
        "def draw_plots(x, y_arr):\n",
        "  title_arr = [\"Кривая зависимости цена одной единицы валюты от времени\", \"Кривая зависимости процентной ставки от времени\"]\n",
        "  x_label_arr = [\"Время\", \"Время\"]\n",
        "  y_label_arr = [\"Стоимость одной единицы валюты от номинала\", \"Процентная ставка доходности\"]\n",
        "\n",
        "  plt.figure(figsize=(15, 10))\n",
        "\n",
        "  for i in range(2):\n",
        "    plt.subplot(2, 2, i + 1)\n",
        "    plt.title(title_arr[i])\n",
        "    plt.xlabel(x_label_arr[i])\n",
        "    plt.ylabel(y_label_arr[i])\n",
        "    plt.scatter(x, y_arr[i], color = \"orangered\")\n",
        "  plt.show()"
      ],
      "execution_count": null,
      "outputs": []
    },
    {
      "cell_type": "code",
      "metadata": {
        "id": "FInzQTctPqkb"
      },
      "source": [
        "def yield_recovery(y, x, m_arr, n_arr, PV_arr, FV_arr, PV_arr1, FV_arr1, PMT_arr): \n",
        "  variables_cnt, years = count_variables_and_years(m_arr, n_arr)\n",
        "\n",
        "  A = create_matrix(x, y, variables_cnt, m_arr, n_arr, PMT_arr, FV_arr1)\n",
        "  b = create_vector(x, y, PV_arr, FV_arr, PV_arr1)\n",
        "\n",
        "  A_rank = np.linalg.matrix_rank(A)\n",
        "\n",
        "  # Найдем расширенную матрицу и ее ранг\n",
        "  extended_matrix = np.zeros(shape=(x + y, variables_cnt + 1))\n",
        "  for i in range(x + y):\n",
        "    extended_matrix[i] = np.append(A[i], b[i])\n",
        "  extended_matrix_rank = np.linalg.matrix_rank(extended_matrix)\n",
        "  \n",
        "  # Если система совместна\n",
        "  if A_rank == extended_matrix_rank:\n",
        "    result = np.linalg.lstsq(A, b, rcond=None)[0]\n",
        "    # Если система определенная\n",
        "    if variables_cnt == A_rank:\n",
        "      print(\"Решение системы: \", result)    \n",
        "    else:\n",
        "      print(\"Система имеет множество решений, однозначно восстановить процентные ставки нельзя.\")\n",
        "      print(\"Одно из возможных решений системы: \", result)\n",
        "    r_arr = []\n",
        "    for i in range(len(years)):\n",
        "      r_arr.append(count_yield(years[i], result[i]))\n",
        "    print(\"Процентные ставки: \", r_arr)\n",
        "    draw_plots(years, [result, r_arr])\n",
        "    return True, []\n",
        "  # Если система не совместна\n",
        "  else:\n",
        "    print(\"Система не имеет ни одного решений, нарушается закон единой цены.\")\n",
        "    return False, np.linalg.lstsq(A, b, rcond=None)[0]\n"
      ],
      "execution_count": null,
      "outputs": []
    },
    {
      "cell_type": "markdown",
      "metadata": {
        "id": "u-mmTVeAocSg"
      },
      "source": [
        "Продемонстрируем работу модели на нескольких примерах:"
      ]
    },
    {
      "cell_type": "code",
      "metadata": {
        "id": "G110tl1cVig7",
        "colab": {
          "base_uri": "https://localhost:8080/",
          "height": 380
        },
        "outputId": "fd68176d-03c0-4cd1-ea83-a2bb5bccc19d"
      },
      "source": [
        "#1-ый пример (у системы единственное решение)\n",
        "y = 8\n",
        "m_arr = [1, 4, 5, 6, 7, 8, 9, 10]\n",
        "PV_arr = [950, 720, 670, 610, 560, 520, 590, 540]\n",
        "FV_arr = [1000, 1000, 1000, 1000, 1000, 1000, 1000, 1000]\n",
        "\n",
        "x = 3\n",
        "n_arr = [1, 2, 3]\n",
        "PV_arr1 = [997.5, 971.5, 931.5]\n",
        "FV_arr1 = [1000, 1000, 1000]\n",
        "PMT_arr = [50, 50, 50]\n",
        "res = yield_recovery(y, x, m_arr, n_arr, PV_arr, FV_arr, PV_arr1, FV_arr1, PMT_arr)"
      ],
      "execution_count": null,
      "outputs": [
        {
          "output_type": "stream",
          "text": [
            "Решение системы:  [0.95 0.72 0.67 0.61 0.56 0.52 0.59 0.54 0.88 0.8 ]\n",
            "Процентные ставки:  [0.05263157894736881, 0.08559260405431801, 0.08339054096014165, 0.0858713153115176, 0.08635843055243186, 0.08517450528696902, 0.06037843677172616, 0.06355664169358155, 0.06600358177805221, 0.07721734501594191]\n"
          ],
          "name": "stdout"
        },
        {
          "output_type": "display_data",
          "data": {
            "image/png": "[encoded data removed]",
            "text/plain": [
              "<Figure size 1080x720 with 2 Axes>"
            ]
          },
          "metadata": {
            "tags": [],
            "needs_background": "light"
          }
        }
      ]
    },
    {
      "cell_type": "code",
      "metadata": {
        "id": "sYaPuvkTWB2z",
        "colab": {
          "base_uri": "https://localhost:8080/",
          "height": 397
        },
        "outputId": "54ef4547-51d1-4b1a-adca-3f01fc7ba3ca"
      },
      "source": [
        "#2-ой пример (у системы множество решений)\n",
        "y = 8\n",
        "m_arr = [1, 4, 5, 6, 7, 8, 9, 10]\n",
        "PV_arr = [950, 720, 670, 610, 560, 520, 590, 540]\n",
        "FV_arr = [1000, 1000, 1000, 1000, 1000, 1000, 1000, 1000]\n",
        "\n",
        "x = 2\n",
        "n_arr = [1, 3]\n",
        "PV_arr1 = [997.5, 931.5]\n",
        "FV_arr1 = [1000, 1000]\n",
        "PMT_arr = [50, 50]\n",
        "res = yield_recovery(y, x, m_arr, n_arr, PV_arr, FV_arr, PV_arr1, FV_arr1, PMT_arr)"
      ],
      "execution_count": null,
      "outputs": [
        {
          "output_type": "stream",
          "text": [
            "Система имеет множество решений, однозначно восстановить процентные ставки нельзя.\n",
            "Одно из возможных решений системы:  [0.95 0.72 0.67 0.61 0.56 0.52 0.59 0.54 0.04 0.84]\n",
            "Процентные ставки:  [0.052631578947367696, 0.08559260405433022, 0.08339054096014231, 0.08587131531151782, 0.08635843055243186, 0.08517450528696902, 0.06037843677172616, 0.06355664169358155, 4.0, 0.05983983294832651]\n"
          ],
          "name": "stdout"
        },
        {
          "output_type": "display_data",
          "data": {
            "image/png": "[encoded data removed]",
            "text/plain": [
              "<Figure size 1080x720 with 2 Axes>"
            ]
          },
          "metadata": {
            "tags": [],
            "needs_background": "light"
          }
        }
      ]
    },
    {
      "cell_type": "code",
      "metadata": {
        "id": "8F_DnhDept4T",
        "colab": {
          "base_uri": "https://localhost:8080/",
          "height": 34
        },
        "outputId": "5f1ff7aa-cda3-4705-f0ee-5678478dc906"
      },
      "source": [
        "#3-ий пример (у системы нет решений)\n",
        "y = 8\n",
        "m_arr = [1, 4, 5, 6, 7, 8, 9, 10]\n",
        "PV_arr = [950, 720, 670, 610, 560, 520, 590, 540]\n",
        "FV_arr = [1000, 1000, 1000, 1000, 1000, 1000, 1000, 1000]\n",
        "\n",
        "x = 4\n",
        "n_arr = [1, 2, 3, 4]\n",
        "PV_arr1 = [997.5, 971.5, 931.5, 800]\n",
        "FV_arr1 = [1000, 1000, 1000, 1000]\n",
        "PMT_arr = [50, 50, 50, 50]\n",
        "res = yield_recovery(y, x, m_arr, n_arr, PV_arr, FV_arr, PV_arr1, FV_arr1, PMT_arr)"
      ],
      "execution_count": null,
      "outputs": [
        {
          "output_type": "stream",
          "text": [
            "Система не имеет ни одного решений, нарушается закон единой цены.\n"
          ],
          "name": "stdout"
        }
      ]
    },
    {
      "cell_type": "markdown",
      "metadata": {
        "id": "M6jjsb2XxDxm"
      },
      "source": [
        "В приведенных примерах мы наблюдаем, что форма и уровень кривой доходности может сильно меняются с течением времени."
      ]
    },
    {
      "cell_type": "markdown",
      "metadata": {
        "id": "iF_VtLzZB4tj"
      },
      "source": [
        "# 8 Арбитражные возможности\n",
        "\n",
        "В случае не выполнения закона единой цены появляются возможности арбитража, при этом возможность арбитражных операций кратковременна.\n",
        "\n",
        "*   Положим, что цена одного рубля от номинала ($c(t)$) на одной бирже меньше, чем на другой. Тогда процентная ставка доходности на 1-ой бирже выше, чем на 2-ой. Это значит, что покупная цена бескупонной облигации на 1-ой бирже ниже, чем на 2-ой.Если с учетом операционных издержек, мы можем приобрести облигацию на 1-ой бирже, а продать на 2-ой и при этом получить прибыль, то мы совершим арбитражную операцию.\n",
        "\n",
        "*   Аналогично с купонными облигациями. Положим на 1-ой бирже цена одного рубля от номинала составляла $c_1$, ... , $c_n$ (в 1-ый, ... n-ый год соответственно). А на 2-ой бирже - $z_1$, ... , $z_n$. Тогда если $\\sum_{i=1}^n c_i < \\sum_{i=1}^n z_i$, то процентная ставка доходности на 1-ой бирже выше чем на 2-ой. Тогда текущая стоимость облигаций на 1-ой бирже ниже. Если с учетом операционных издержек мы можем получить прибыль от покупки облигаций на 1-ой бирже и продажи на 2-ой, то мы тем самым можем провести арбитражную операцию.\n",
        "\n",
        "Пусть $PV_1$, $PV_2$ - цены на одну и туже облигацию. Будем считать, что операционные издержки малы. Кроме того, без ограничения общности будем считать, что $PV_1 < PV_2$. Тогда мы будем покупать облигации по цене $PV_1$, а продавать по цене $PV_2$. В итоге, после купли n облигаций по цене $PV_1$ и их продажи по цене $PV_2$, выручка составит $n * (PV_1 - PV_2)$.\n",
        "\n",
        "Арбитражные операции прекратятся тогда, когда разница в цене будет равна операционным издержкам.\n",
        "\n",
        "Таким образом, с помощью арбитражных операций поддерживается сравнительно узкий диапазон цен.\n",
        "\n"
      ]
    },
    {
      "cell_type": "code",
      "metadata": {
        "id": "Q56p-_NMGiEt"
      },
      "source": [
        "def find_arbitrage_opportunities(y, x, m_arr, n_arr, PV_arr, FV_arr, PV_arr1, FV_arr1, PMT_arr):\n",
        "  flag, result = yield_recovery(y, x, m_arr, n_arr, PV_arr, FV_arr, PV_arr1, FV_arr1, PMT_arr)\n",
        "  n = 10\n",
        "  if flag:\n",
        "    print(\"Aрбитражных возможностей нет.\")\n",
        "  else:\n",
        "    print()\n",
        "    print(\"-----------------------------------------------------------------------------------\")\n",
        "    print(\"                 Арбитражные возможности для бескупонных облигаций            \")\n",
        "    print(\"-----------------------------------------------------------------------------------\")\n",
        "    for i in range(y):\n",
        "      pv = price_of_zero_coupon_bond(result[i], FV_arr[i])\n",
        "      if abs(PV_arr[i] - pv) > 0.001:\n",
        "        PV_min = min(PV_arr[i], pv)\n",
        "        PV_max = max(PV_arr[i], pv)\n",
        "        print(\"Покупаем \" + str(n) + \" бескупонных облигаций со сроком погашения \" + str(m_arr[i])\n",
        "         + \" по цене: \" + str(PV_min))\n",
        "        print(\"Продаем \" + str(n) + \" бескупонных облигаций со сроком погашения \" + str(m_arr[i])\n",
        "        + \" по цене: \" + str(PV_max))\n",
        "        print(\"Выручка составит:\" + str(n * (PV_max - PV_min)))\n",
        "\n",
        "    print()\n",
        "    print(\"-----------------------------------------------------------------------------------\")\n",
        "    print(\"                  Арбитражные возможности для купонных облигаций              \")\n",
        "    print(\"-----------------------------------------------------------------------------------\")\n",
        "    for i in range(x):\n",
        "      pv = 0\n",
        "      for j in range(n_arr[i]):\n",
        "        pv += PMT_arr[i] * result[j]\n",
        "      pv += FV_arr1[i] * result[n_arr[i] - 1]\n",
        "      if abs(PV_arr1[i] - pv) > 0.001:\n",
        "        PV_min = min(PV_arr1[i], pv)\n",
        "        PV_max = max(PV_arr1[i], pv)\n",
        "        print(\"Покупаем \" + str(n) + \" купонных облигаций со сроком погашения \" + str(n_arr[i])\n",
        "         + \" по цене: \" + str(PV_min))\n",
        "        print(\"Продаем \" + str(n) + \" купонных облигаций со сроком погашения \" + str(n_arr[i])\n",
        "        + \" по цене: \" + str(PV_max))\n",
        "        print(\"Выручка составит:\" + str(n * (PV_max - PV_min)))\n",
        "        print()"
      ],
      "execution_count": null,
      "outputs": []
    },
    {
      "cell_type": "code",
      "metadata": {
        "id": "zIhEexFvDdSj",
        "colab": {
          "base_uri": "https://localhost:8080/",
          "height": 434
        },
        "outputId": "9d3e28eb-e117-460d-80e9-f94e60a13dd1"
      },
      "source": [
        "y = 8\n",
        "m_arr = [1, 4, 5, 6, 7, 8, 9, 10]\n",
        "PV_arr = [950, 720, 670, 610, 560, 520, 590, 540]\n",
        "FV_arr = [1000, 1000, 1000, 1000, 1000, 1000, 1000, 1000]\n",
        "\n",
        "x = 4\n",
        "n_arr = [1, 2, 3, 4]\n",
        "PV_arr1 = [997.5, 971.5, 931.5, 800]\n",
        "FV_arr1 = [1000, 1000, 1000, 1000]\n",
        "PMT_arr = [50, 50, 50, 50]\n",
        "find_arbitrage_opportunities(y, x, m_arr, n_arr, PV_arr, FV_arr, PV_arr1, FV_arr1, PMT_arr)"
      ],
      "execution_count": null,
      "outputs": [
        {
          "output_type": "stream",
          "text": [
            "Система не имеет ни одного решений, нарушается закон единой цены.\n",
            "\n",
            "-----------------------------------------------------------------------------------\n",
            "                 Арбитражные возможности для бескупонных облигаций            \n",
            "-----------------------------------------------------------------------------------\n",
            "Покупаем 10 бескупонных облигаций со сроком погашения 4 по цене: 636.6667427202526\n",
            "Продаем 10 бескупонных облигаций со сроком погашения 4 по цене: 720\n",
            "Выручка составит:833.3325727974739\n",
            "\n",
            "-----------------------------------------------------------------------------------\n",
            "                  Арбитражные возможности для купонных облигаций              \n",
            "-----------------------------------------------------------------------------------\n",
            "Покупаем 10 купонных облигаций со сроком погашения 2 по цене: 716.0000796930309\n",
            "Продаем 10 купонных облигаций со сроком погашения 2 по цене: 971.5\n",
            "Выручка составит:2554.9992030696912\n",
            "\n",
            "Покупаем 10 купонных облигаций со сроком погашения 3 по цене: 782.8333369728102\n",
            "Продаем 10 купонных облигаций со сроком погашения 3 по цене: 931.5\n",
            "Выручка составит:1486.6666302718977\n",
            "\n",
            "Покупаем 10 купонных облигаций со сроком погашения 4 по цене: 753.3333369727596\n",
            "Продаем 10 купонных облигаций со сроком погашения 4 по цене: 800\n",
            "Выручка составит:466.6666302724036\n",
            "\n"
          ],
          "name": "stdout"
        }
      ]
    },
    {
      "cell_type": "markdown",
      "metadata": {
        "id": "-9zyQjz4GFwL"
      },
      "source": [
        "# 9 Восстановление процентных ставок на ОФЗ\n",
        "\n",
        "На примере ОФЗ продемонстрируем работу построенной модели.\n",
        "\n",
        "С сайта [smart-lab](https://smart-lab.ru/q/ofz/) возьмем информацию о купонных и бескупонных облигациях.\n",
        "\n",
        "Из приведенного списка облигаций, выберем купонные облигации с постоянной доходностью (рассмотрим облигации до погашения которых осталось менее 10 купонных выплат):\n",
        "\n",
        ">```\n",
        " Облигация | n |   PV    |  FV  |  PMT  \n",
        "-----------|---| --------|------|-------\n",
        " ОФЗ 26214 | 1 | 100.075 | 1000 | 31.91 \n",
        "-----------|---|---------|------|-------\n",
        " ОФЗ 26205 | 2 | 102.349 | 1000 | 37.90 \n",
        "-----------|---|---------|------|-------\n",
        " ОФЗ 26217 | 3 | 102.898 | 1000 | 37.40 \n",
        "-----------|---|---------|------|-------\n",
        " ОФЗ 25083 | 4 | 102.750 | 1000 | 34.90 \n",
        "-----------|---| --------|------|-------\n",
        " ОФЗ 26209 | 5 | 104.996 | 1000 | 37.90 \n",
        "-----------|---|---------|------|-------\n",
        " ОФЗ 26220 | 6 | 105.200 | 1000 | 36.90 \n",
        "-----------|---|---------|------|-------\n",
        " ОФЗ 26215 | 7 | 104.975 | 1000 | 34.90 \n",
        "-----------|---|---------|------|-------\n",
        " ОФЗ 26223 | 8 | 103.680 | 1000 | 32.41 \n",
        "-----------|---|---------|------|-------\n",
        " ОФЗ 26227 | 9 | 107.050 | 1000 | 36.90 \n",
        ">```\n",
        "\n",
        "\n",
        "В первом столбце таблицы приведено наименование облигации. \n",
        "\n",
        "В следующем столбце указано количество купонных выплат до погашения.\n",
        "\n",
        "В третьем столбце приведена рыночная цена облигации. На бирже она определяется в процессе торгов и котируется не в рублях, а в процентах от номинала облигации.\n",
        "\n",
        "В следующем столбце указан номинал облигации.\n",
        "\n",
        "В последнем столбце приводится размер купонной выплаты. Все облигации, указанные в данной таблице имеют фиксированный размер купонной выплаты, выплачиваемый 2 раза в год."
      ]
    },
    {
      "cell_type": "code",
      "metadata": {
        "id": "_M_uzwUjaO8s",
        "colab": {
          "base_uri": "https://localhost:8080/",
          "height": 414
        },
        "outputId": "925e3531-d739-4648-a0cc-01f7dfca9ca3"
      },
      "source": [
        "y = 0\n",
        "m_arr = []\n",
        "PV_arr = []\n",
        "FV_arr = []\n",
        "\n",
        "x = 9\n",
        "n_arr = [1, 2, 3, 4, 5, 6, 7, 8, 9]\n",
        "PV_arr1 = [1000.75, 1023.49, 1028.98, 1027.50, 1049.96, 1052.00, 1049.75, 1036.80, 1070.50]\n",
        "FV_arr1 = [1000, 1000, 1000, 1000, 1000, 1000, 1000, 1000, 1000]\n",
        "PMT_arr = [31.91, 37.90, 37.40, 34.90, 37.90, 36.90, 34.90, 34.90, 32.41, 36.90]\n",
        "find_arbitrage_opportunities(y, x, m_arr, n_arr, PV_arr, FV_arr, PV_arr1, FV_arr1, PMT_arr)"
      ],
      "execution_count": null,
      "outputs": [
        {
          "output_type": "stream",
          "text": [
            "Решение системы:  [0.96980357 0.95070281 0.9226461  0.89696973 0.87504516 0.85032339\n",
            " 0.83003611 0.78953146 0.81447609]\n",
            "Процентные ставки:  [0.031136647514363958, 0.025599054033636826, 0.027199857048086695, 0.02755612571083499, 0.027055486489816705, 0.02739152526232691, 0.02696956512309634, 0.02998006645614759, 0.023063067036224627]\n"
          ],
          "name": "stdout"
        },
        {
          "output_type": "display_data",
          "data": {
            "image/png": "[encoded data removed]",
            "text/plain": [
              "<Figure size 1080x720 with 2 Axes>"
            ]
          },
          "metadata": {
            "tags": [],
            "needs_background": "light"
          }
        },
        {
          "output_type": "stream",
          "text": [
            "Aрбитражных возможностей нет.\n"
          ],
          "name": "stdout"
        }
      ]
    },
    {
      "cell_type": "markdown",
      "metadata": {
        "id": "mhNmvS80x958"
      },
      "source": [
        "# 10 Кредитный риск облигации\n",
        "\n",
        "Помимо срока погашения облигации, другим не менее важным фактором, оказывающим влияние на процентную ставку доходности является кредитный риск или риск дефолта. \n",
        "\n",
        "**Кредитный риск** — финансовый риск неисполнения эмитентом своих обязательств перед владельцем облигации, то есть риск возникновения дефолта эмитента. [[4]](#4)\n",
        "\n",
        "Чем выше степень этого\n",
        "риска, тем выше процентная ставка, которую должен обещать заемщик своим инвесторам для того, чтобы они\n",
        "согласились приобрести его ценные бумаги.\n",
        "\n",
        "Существует еще одна тесная связь — между кредитными рисками облигаций и кредитными рейтингами соответствующих эмитентов. Поэтому для инвестора кредитные рейтинги являются важным критерием оценки степени рисков вложения в конкретные облигации. Повышение кредитного рейтинга эмитента влечет снижение кредитного риска и уровня доходности бумаг, и наоборот."
      ]
    },
    {
      "cell_type": "markdown",
      "metadata": {
        "id": "l2LhX1xq9iQa"
      },
      "source": [
        "С сайта [smart-lab](https://smart-lab.ru/) возьмем данные о процентных ставках доходности по купонным облигациям различных компаний с разными степенями риска и сроками погашения:\n",
        ">```\n",
        " n | Облигация | Доходность |  | Облигация  | Доходность |  | Облигация  | Доходность \n",
        "---|-----------|------------|  |------------|------------|  |------------|------------\n",
        "6  | ОФЗ 26229 |    5.7%    |  | РЖД БО-07  |    6.6%    |  | РУСАБрБ01  |    7.5%  \n",
        "---|-----------|------------|  |------------|------------|  |------------|------------\n",
        "8  | ОФЗ 26212 |    5.9%    |  | ПочтаРБ1Р5 |    6.3%    |  | ЕАБР 1Р-01 |    7.3%  \n",
        "---|-----------|------------|  |------------|------------|  |------------|------------\n",
        "10 | ОФЗ 26228 |    6.1%    |  | ЕвропланБ6 |    6.5%    |  | АльфаБО-13 |    7.3%  \n",
        "---|-----------|------------|  |------------|------------|  |------------|------------\n",
        "13 | ОФЗ 26221 |    6.2%    |  | ГЛК 1Р-12  |    6.7%    |  | КАМАЗ БО-9 |    7.1%   \n",
        ">```\n",
        "\n",
        "Где n - количество лет до погашения облигации.\n",
        "\n",
        "Из данной таблицы видно, что доходность по облигациям ОФЗ ниже чем доходность по облигациям других компаний. Облигации ОФЗ считаются безрисковыми, а кридитный рейтинг государства выше, чем кредитный рейтинг остальных компаний, а значит облигации из 2-ого и 3-его столбцов более рискованные, чем облигации из 1-ого столбца. Кроме того, уровень кредитного риска по облигациям из 2-ого столбца ниже, чем по облигациям из 3-его столбца.\n",
        "\n",
        "Таким образом, чем выше риск дефолта компании, тем выше будет процентная ставка доходности компании."
      ]
    },
    {
      "cell_type": "markdown",
      "metadata": {
        "id": "WppETG613KBy"
      },
      "source": [
        "# 11 Литература\n",
        "\n",
        "1. <a name = \"1\">[https://ru.wikipedia.org/wiki/Облигация](https://ru.wikipedia.org/wiki/%D0%9E%D0%B1%D0%BB%D0%B8%D0%B3%D0%B0%D1%86%D0%B8%D1%8F)</a>\n",
        "2. <a name = \"2\">[https://ru.wikipedia.org/wiki/Эмитент](https://ru.wikipedia.org/wiki/%D0%AD%D0%BC%D0%B8%D1%82%D0%B5%D0%BD%D1%82)</a>\n",
        "3. <a name = \"3\">[https://ru.wikipedia.org/wiki/Номинальная_стоимость](https://ru.wikipedia.org/wiki/%D0%9D%D0%BE%D0%BC%D0%B8%D0%BD%D0%B0%D0%BB%D1%8C%D0%BD%D0%B0%D1%8F_%D1%81%D1%82%D0%BE%D0%B8%D0%BC%D0%BE%D1%81%D1%82%D1%8C)</a>\n",
        "4. <a name = \"4\">\"Финансы\" - Боди Мертон</a>\n",
        "5. <a name = \"5\">[https://bcs-express.ru/novosti-i-analitika/tipy-obligatsii-na-rossiiskom-rynke](https://bcs-express.ru/novosti-i-analitika/tipy-obligatsii-na-rossiiskom-rynke)</a>\n",
        "\n",
        "6. [https://smart-lab.ru/q/ofz/](https://smart-lab.ru/q/ofz/)\n"
      ]
    }
  ]
}